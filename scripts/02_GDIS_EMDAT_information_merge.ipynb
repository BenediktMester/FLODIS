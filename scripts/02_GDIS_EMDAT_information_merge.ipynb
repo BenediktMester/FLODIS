{
 "cells": [
  {
   "cell_type": "markdown",
   "id": "33d2f506",
   "metadata": {},
   "source": [
    "# GDIS / EM-DAT information merge\n",
    "Script assigns GDIS entries the corresponding disaster information out of EM-DAT"
   ]
  },
  {
   "cell_type": "code",
   "execution_count": null,
   "id": "31e6bac8",
   "metadata": {},
   "outputs": [],
   "source": [
    "# Import modules\n",
    "import os\n",
    "import pandas as pd\n",
    "import geopandas as gpd\n",
    "\n",
    "# Create paths\n",
    "def mkdir(dir):\n",
    "    \n",
    "    if not os.path.exists(dir):\n",
    "        os.mkdir(dir)\n",
    "        \n",
    "path_run = os.getcwd() + '/'\n",
    "path_data = path_run + 'data/'\n",
    "path_data_processed = path_run + 'data_processed/'\n",
    "path_GDIS_processed = path_data_processed + 'GDIS_processed/'\n",
    "path_GDIS_processed_creator = mkdir(path_GDIS_processed)"
   ]
  },
  {
   "cell_type": "code",
   "execution_count": null,
   "id": "b7793e4d",
   "metadata": {},
   "outputs": [],
   "source": [
    "# Load and prepare data\n",
    "GDIS = gpd.read_file(path_data + 'GDIS/GDIS.shp')\n",
    "GDIS = GDIS.loc[GDIS.disasterty == 'flood']\n",
    "GDIS['year'] = GDIS.apply(lambda GDIS : int(GDIS.disasterno.split('-')[0]), axis = 1)\n",
    "GDIS = GDIS[(GDIS.year >= 2000) & (GDIS.year <= 2018)]\n",
    "EMDAT = pd.read_csv(path_data + 'EM-DAT/emdat_public_2022_08_17_query_uid-W0XDn2.csv')\n",
    "# EM-DAT, database accessed on 2022-08-17 (\"https://public.emdat.be/\")\n",
    "EMDAT['disasterno'] = EMDAT.apply(lambda EMDAT: (EMDAT['Dis No'].split('-')[0] + '-' + EMDAT['Dis No'].split('-')[1]), axis = 1)\n",
    "EMDAT['ISO3'] = EMDAT.apply(lambda EMDAT: (EMDAT['Dis No'].split('-')[2]), axis = 1)\n",
    "\n",
    "# define EM-DAT's columns of interest for FLODIS\n",
    "column_list = ['Start Year', 'Start Month', 'Start Day', 'End Year', 'End Month',\n",
    "       'End Day', 'Total Deaths', 'No Injured', 'No Affected', 'No Homeless',\n",
    "       'Total Affected',\"Total Damages ('000 US$)\"]\n",
    "\n",
    "counter_error = 0\n",
    "for disasterno_temp in GDIS.disasterno.unique():  \n",
    "    print(disasterno_temp)\n",
    "    counter = 0    \n",
    "    GDIS_temp = GDIS.loc[GDIS.disasterno == disasterno_temp]\n",
    "    GDIS_temp = GDIS_temp.dissolve(by='iso3', aggfunc='mean').reset_index(level=0)\n",
    "    GDIS_temp = GDIS_temp.drop(['fid','geo_id','historical'], axis=1)\n",
    "    GDIS_temp['disasterno'] = disasterno_temp    \n",
    "    EMDAT_temp = EMDAT.loc[EMDAT.disasterno == disasterno_temp]\n",
    "    \n",
    "    for ISO3_temp in GDIS_temp.iso3:           \n",
    "        GDIS_mod = gpd.GeoDataFrame()        \n",
    "        GDIS_ISO3_temp = GDIS_temp.loc[GDIS_temp.iso3 == ISO3_temp]        \n",
    "        EMDAT_ISO3_temp = EMDAT_temp.loc[EMDAT_temp.ISO3 == ISO3_temp]\n",
    "\n",
    "        for column in column_list:            \n",
    "            try:\n",
    "                GDIS_ISO3_temp[column] = EMDAT_ISO3_temp.loc[EMDAT_ISO3_temp.ISO3 == ISO3_temp,column].values[0] \n",
    "            except:\n",
    "                pass\n",
    "\n",
    "        GDIS_mod = GDIS_mod.append(GDIS_ISO3_temp)\n",
    "    \n",
    "        if 'Start Year' in GDIS_mod:\n",
    "            GDIS_mod.to_file(path_GDIS_processed + f\"GDIS_mod_{disasterno_temp}_{counter}.shp\")\n",
    "        \n",
    "        else:\n",
    "            counter_error += 1\n",
    "            print(f\"Error: GDIS entry has no disaster information ({ISO_temp})\",counter_error,)\n",
    "\n",
    "        counter += 1\n",
    "        \n",
    "print(\"Total number of GDIS entries with no disaster information:\",counter_error)"
   ]
  }
 ],
 "metadata": {
  "kernelspec": {
   "display_name": "Python 3",
   "language": "python",
   "name": "python3"
  },
  "language_info": {
   "codemirror_mode": {
    "name": "ipython",
    "version": 3
   },
   "file_extension": ".py",
   "mimetype": "text/x-python",
   "name": "python",
   "nbconvert_exporter": "python",
   "pygments_lexer": "ipython3",
   "version": "3.7.6"
  }
 },
 "nbformat": 4,
 "nbformat_minor": 5
}
